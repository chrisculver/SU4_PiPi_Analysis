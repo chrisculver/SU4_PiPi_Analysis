{
 "cells": [
  {
   "cell_type": "code",
   "execution_count": 1,
   "id": "85f68eba",
   "metadata": {},
   "outputs": [],
   "source": [
    "import os\n",
    "import platform\n",
    "import h5py\n",
    "import numpy as np\n",
    "import matplotlib.pyplot as plt"
   ]
  },
  {
   "cell_type": "code",
   "execution_count": 2,
   "id": "190778c1",
   "metadata": {},
   "outputs": [],
   "source": [
    "beta=4.03\n",
    "ml=0.1\n",
    "mh=0.2\n",
    "\n",
    "NT=64\n",
    "\n",
    "ncstart=200\n",
    "ncfinish=2200\n",
    "step=5\n",
    "NCFG=(ncfinish-ncstart)/step\n",
    "\n",
    "def mesonDatasetToNumpy(dataset):\n",
    "    data = dataset['corr']\n",
    "    arr = []\n",
    "    for elem in data:\n",
    "        arr.append(complex(elem[0],elem[1]))\n",
    "    return np.array(arr)"
   ]
  },
  {
   "cell_type": "code",
   "execution_count": 5,
   "id": "e6e2469f",
   "metadata": {},
   "outputs": [],
   "source": [
    "userDir=os.path.expanduser('~')\n",
    "dataDir=''\n",
    "\n",
    "dataDir=os.path.join(userDir,'Documents','LatticeQCD','PIPI','b{}_ml{}_mh{}'.format(beta,ml,mh))\n",
    "\n",
    "pionDir=os.path.join(dataDir,'mesons')"
   ]
  },
  {
   "cell_type": "code",
   "execution_count": 10,
   "id": "7cd4013e",
   "metadata": {},
   "outputs": [],
   "source": [
    "pionCorrs={}\n",
    "sourceTimes=[i for i in range(0,64,8)]\n",
    "for tsource in sourceTimes:\n",
    "\n",
    "    corrs=[]\n",
    "    for cfg in range(ncstart, ncfinish, step):\n",
    "        fileName=os.path.join(pionDir,'wall_ll.t{}.{}.h5'.format(tsource,cfg))\n",
    "        file = h5py.File(fileName,'r')\n",
    "        meson0=file['meson']['meson_0']\n",
    "        corr = mesonDatasetToNumpy(meson0)\n",
    "        corr = np.roll(corr, -tsource)\n",
    "        corrs.append(corr)\n",
    "\n",
    "    pionCorrs[tsource]=np.asarray(corrs)"
   ]
  },
  {
   "cell_type": "code",
   "execution_count": 15,
   "id": "e6f97fc5",
   "metadata": {},
   "outputs": [],
   "source": [
    "avgPionCorr=pionCorrs[sourceTimes[0]]\n",
    "for t0 in sourceTimes[1:]:\n",
    "    avgPionCorr+=pionCorrs[t0]\n",
    "avgPionCorr=avgPionCorr/len(sourceTimes)"
   ]
  },
  {
   "cell_type": "code",
   "execution_count": 16,
   "id": "7e5b23eb",
   "metadata": {},
   "outputs": [
    {
     "data": {
      "image/png": "[encoded data removed]",
      "text/plain": [
       "<Figure size 432x288 with 1 Axes>"
      ]
     },
     "metadata": {
      "needs_background": "light"
     },
     "output_type": "display_data"
    }
   ],
   "source": [
    "plt.yscale('log')\n",
    "for corr in avgPionCorr:\n",
    "    plt.plot(np.real(corr),linestyle=\"\",marker=\"o\")\n",
    "plt.show()"
   ]
  },
  {
   "cell_type": "code",
   "execution_count": 17,
   "id": "2f71b5b1",
   "metadata": {},
   "outputs": [
    {
     "data": {
      "text/plain": [
       "(400, 64)"
      ]
     },
     "execution_count": 17,
     "metadata": {},
     "output_type": "execute_result"
    }
   ],
   "source": [
    "np.shape(avgPionCorr)"
   ]
  },
  {
   "cell_type": "code",
   "execution_count": 24,
   "id": "81b287bb",
   "metadata": {},
   "outputs": [
    {
     "name": "stderr",
     "output_type": "stream",
     "text": [
      "/home/chris/Code/LQCD/SU4_PiPi_Analysis/utils.py:39: ComplexWarning: Casting complex values to real discards the imaginary part\n",
      "  res.append(math.log(avg[t]/avg[t+1]))\n"
     ]
    }
   ],
   "source": [
    "from jk import *\n",
    "from utils import *\n",
    "\n",
    "efm=jackKnife(log_effective_mass,avgPionCorr)"
   ]
  },
  {
   "cell_type": "code",
   "execution_count": 18,
   "id": "6456077a-c676-410c-b1d3-0abcc352cc39",
   "metadata": {},
   "outputs": [
    {
     "data": {
      "application/pdf": "[encoded data removed]",
      "image/png": "[encoded data removed]",
      "text/plain": [
       "<Figure size 720x72 with 1 Axes>"
      ]
     },
     "metadata": {
      "needs_background": "light"
     },
     "output_type": "display_data"
    }
   ],
   "source": [
    "import lsqfit\n",
    "from model_avg_paper import *\n",
    "from model_avg_paper.test_tmin import test_vary_tmin_SE\n",
    "import gvar as gv"
   ]
  },
  {
   "cell_type": "code",
   "execution_count": 20,
   "id": "ccc8f99e-c7dd-4328-82ea-68c2fb114dcc",
   "metadata": {},
   "outputs": [],
   "source": [
    "data = {'t': np.asarray([t for t in range(int(NT/2))]), 'ND': NCFG, 'yraw': np.real(avgPionCorr[:,0:int(NT/2)])}\n",
    "data['y']=gv.dataset.avg_data(data['yraw'])"
   ]
  },
  {
   "cell_type": "code",
   "execution_count": null,
   "id": "6aad0f87",
   "metadata": {},
   "outputs": [],
   "source": [
    "lsqfit.nonlinear_fit(\n",
    "    data=(data['t'], data['y']),\n",
    "    fcn = fit_model, \n",
    "    prior=priors\n",
    ")"
   ]
  }
 ],
 "metadata": {
  "kernelspec": {
   "display_name": "Python 3 (ipykernel)",
   "language": "python",
   "name": "python3"
  },
  "language_info": {
   "codemirror_mode": {
    "name": "ipython",
    "version": 3
   },
   "file_extension": ".py",
   "mimetype": "text/x-python",
   "name": "python",
   "nbconvert_exporter": "python",
   "pygments_lexer": "ipython3",
   "version": "3.8.12"
  }
 },
 "nbformat": 4,
 "nbformat_minor": 5
}
