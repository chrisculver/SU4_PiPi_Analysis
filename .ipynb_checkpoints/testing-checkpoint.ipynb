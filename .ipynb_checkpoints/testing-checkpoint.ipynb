{
 "cells": [
  {
   "cell_type": "code",
   "execution_count": 16,
   "id": "b6ad623c-bd42-4abc-949b-eb85ce8804c1",
   "metadata": {},
   "outputs": [],
   "source": [
    "import os\n",
    "import h5py\n",
    "import numpy as np\n",
    "import matplotlib.pyplot as plt"
   ]
  },
  {
   "cell_type": "code",
   "execution_count": 17,
   "id": "3064e16f-fbcb-4b07-985b-00cad89e5c33",
   "metadata": {},
   "outputs": [],
   "source": [
    "beta=4.03\n",
    "ml=0.15\n",
    "mh=0.15\n",
    "ncstart=100\n",
    "ncfinish=2100\n",
    "step=5\n",
    "NCFG=(ncfinish-ncstart)/step"
   ]
  },
  {
   "cell_type": "code",
   "execution_count": 18,
   "id": "91b53be4-c03c-4cdf-a457-f8b99cb78f06",
   "metadata": {},
   "outputs": [],
   "source": [
    "userDir=os.path.expanduser('~')\n",
    "dataDir=os.path.join(userDir,'LatticeData','PiPi','b{}_ml{}_mh{}'.format(beta,ml,mh))\n",
    "pionDir=os.path.join(dataDir,'mesons')"
   ]
  },
  {
   "cell_type": "code",
   "execution_count": 19,
   "id": "fe2bfb59-2946-4a55-9a84-8bbf0c56311b",
   "metadata": {},
   "outputs": [],
   "source": [
    "testcfg=os.path.join(pionDir,'wall_ll.100.h5')"
   ]
  },
  {
   "cell_type": "code",
   "execution_count": 20,
   "id": "540bca4b-c499-4094-966c-08a83e4b9840",
   "metadata": {},
   "outputs": [],
   "source": [
    "file = h5py.File(testcfg,'r')"
   ]
  },
  {
   "cell_type": "code",
   "execution_count": 21,
   "id": "dfe5fda8-0101-4b10-9d28-97ec5e3663ed",
   "metadata": {},
   "outputs": [
    {
     "data": {
      "text/plain": [
       "<KeysViewHDF5 ['meson']>"
      ]
     },
     "execution_count": 21,
     "metadata": {},
     "output_type": "execute_result"
    }
   ],
   "source": [
    "file.keys()"
   ]
  },
  {
   "cell_type": "code",
   "execution_count": 22,
   "id": "ea92a13b-b14e-4c28-9335-b3a12b9e875b",
   "metadata": {},
   "outputs": [
    {
     "data": {
      "text/plain": [
       "<HDF5 group \"/meson\" (256 members)>"
      ]
     },
     "execution_count": 22,
     "metadata": {},
     "output_type": "execute_result"
    }
   ],
   "source": [
    "file['meson']"
   ]
  },
  {
   "cell_type": "code",
   "execution_count": 23,
   "id": "5e795c70-1a94-4d3b-a72d-58e3f847bdee",
   "metadata": {},
   "outputs": [],
   "source": [
    "meson0corrSet=file['meson']['meson_0']['corr']"
   ]
  },
  {
   "cell_type": "code",
   "execution_count": 24,
   "id": "8c4bdfd7-d356-482d-9804-6d8d7c8fbdbf",
   "metadata": {},
   "outputs": [
    {
     "data": {
      "text/plain": [
       "2861.0962355000856"
      ]
     },
     "execution_count": 24,
     "metadata": {},
     "output_type": "execute_result"
    }
   ],
   "source": [
    "meson0corrSet[0][0]"
   ]
  },
  {
   "cell_type": "code",
   "execution_count": 25,
   "id": "a877ae92-25c4-4894-a507-cd485805eb1e",
   "metadata": {},
   "outputs": [
    {
     "data": {
      "text/plain": [
       "0.0"
      ]
     },
     "execution_count": 25,
     "metadata": {},
     "output_type": "execute_result"
    }
   ],
   "source": [
    "meson0corrSet[0][1]"
   ]
  },
  {
   "cell_type": "code",
   "execution_count": 29,
   "id": "d0965d93-25e7-4f3e-9b2b-7a85717a533e",
   "metadata": {},
   "outputs": [],
   "source": [
    "def corrDatasetToNumpy(dataset):\n",
    "    arr = []\n",
    "    for elem in dataset:\n",
    "\n",
    "corr=[]\n",
    "for elem in meson0corrSet:\n",
    "    #print(complex(elem[0],elem[1]))\n",
    "    corr.append(complex(elem[0],elem[1]))\n",
    "corr=np.array(corr)"
   ]
  },
  {
   "cell_type": "code",
   "execution_count": 35,
   "id": "2296f632-3c1d-4742-81e2-bc0e96709158",
   "metadata": {},
   "outputs": [
    {
     "data": {
      "text/plain": [
       "[<matplotlib.lines.Line2D at 0x7f7a4bccb580>]"
      ]
     },
     "execution_count": 35,
     "metadata": {},
     "output_type": "execute_result"
    },
    {
     "data": {
      "image/png": "[encoded data removed]",
      "text/plain": [
       "<Figure size 432x288 with 1 Axes>"
      ]
     },
     "metadata": {
      "needs_background": "light"
     },
     "output_type": "display_data"
    }
   ],
   "source": [
    "plt.yscale('log')\n",
    "plt.plot(np.real(corr),linestyle=\"\",marker=\"o\")"
   ]
  },
  {
   "cell_type": "code",
   "execution_count": null,
   "id": "943df0eb-8f1a-42e8-883d-f2711b633dd7",
   "metadata": {},
   "outputs": [],
   "source": []
  }
 ],
 "metadata": {
  "kernelspec": {
   "display_name": "Python 3 (ipykernel)",
   "language": "python",
   "name": "python3"
  },
  "language_info": {
   "codemirror_mode": {
    "name": "ipython",
    "version": 3
   },
   "file_extension": ".py",
   "mimetype": "text/x-python",
   "name": "python",
   "nbconvert_exporter": "python",
   "pygments_lexer": "ipython3",
   "version": "3.8.12"
  }
 },
 "nbformat": 4,
 "nbformat_minor": 5
}
