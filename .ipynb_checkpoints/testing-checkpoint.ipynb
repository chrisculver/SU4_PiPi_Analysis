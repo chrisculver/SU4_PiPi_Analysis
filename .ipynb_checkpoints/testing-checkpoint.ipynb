{
 "cells": [
  {
   "cell_type": "code",
   "execution_count": 1,
   "id": "85f68eba",
   "metadata": {},
   "outputs": [],
   "source": [
    "import os\n",
    "import h5py\n",
    "import numpy as np\n",
    "import matplotlib.pyplot as plt"
   ]
  },
  {
   "cell_type": "code",
   "execution_count": 2,
   "id": "190778c1",
   "metadata": {},
   "outputs": [],
   "source": [
    "beta=4.03\n",
    "ml=0.15\n",
    "mh=0.15\n",
    "\n",
    "NT=64\n",
    "\n",
    "ncstart=100\n",
    "ncfinish=2100\n",
    "step=5\n",
    "NCFG=(ncfinish-ncstart)/step\n",
    "\n",
    "def mesonDatasetToNumpy(dataset):\n",
    "    data = dataset['corr']\n",
    "    arr = []\n",
    "    for elem in data:\n",
    "        arr.append(complex(elem[0],elem[1]))\n",
    "    return np.array(arr)"
   ]
  },
  {
   "cell_type": "code",
   "execution_count": 3,
   "id": "e6e2469f",
   "metadata": {},
   "outputs": [],
   "source": [
    "userDir=os.path.expanduser('~')\n",
    "dataDir=os.path.join(userDir,'Documents','LatticeQCD','PIPI','b{}_ml{}_mh{}'.format(beta,ml,mh))\n",
    "pionDir=os.path.join(dataDir,'mesons')"
   ]
  },
  {
   "cell_type": "code",
   "execution_count": 4,
   "id": "7cd4013e",
   "metadata": {},
   "outputs": [],
   "source": [
    "pionCorrs=[]\n",
    "for cfg in range(ncstart, ncfinish, step):\n",
    "    fileName=os.path.join(pionDir,'wall_ll.t0.{}.h5'.format(cfg))\n",
    "    file = h5py.File(fileName,'r')\n",
    "    meson0=file['meson']['meson_0']\n",
    "    corr = mesonDatasetToNumpy(meson0)\n",
    "    pionCorrs.append(corr)\n",
    "pionCorrs=np.asarray(pionCorrs)"
   ]
  },
  {
   "cell_type": "code",
   "execution_count": 5,
   "id": "7e5b23eb",
   "metadata": {},
   "outputs": [
    {
     "data": {
      "image/png": "[encoded data removed]",
      "text/plain": [
       "<Figure size 432x288 with 1 Axes>"
      ]
     },
     "metadata": {
      "needs_background": "light"
     },
     "output_type": "display_data"
    }
   ],
   "source": [
    "plt.yscale('log')\n",
    "for corr in pionCorrs:\n",
    "    plt.plot(np.real(corr),linestyle=\"\",marker=\"o\")\n",
    "plt.show()"
   ]
  },
  {
   "cell_type": "code",
   "execution_count": 6,
   "id": "2f71b5b1",
   "metadata": {},
   "outputs": [
    {
     "data": {
      "text/plain": [
       "(400, 32)"
      ]
     },
     "execution_count": 6,
     "metadata": {},
     "output_type": "execute_result"
    }
   ],
   "source": [
    "np.shape(pionCorrs[:,0:int(NT/2)])"
   ]
  },
  {
   "cell_type": "code",
   "execution_count": 7,
   "id": "6456077a-c676-410c-b1d3-0abcc352cc39",
   "metadata": {},
   "outputs": [
    {
     "data": {
      "application/pdf": "[encoded data removed]",
      "image/png": "[encoded data removed]",
      "text/plain": [
       "<Figure size 720x72 with 1 Axes>"
      ]
     },
     "metadata": {
      "needs_background": "light"
     },
     "output_type": "display_data"
    }
   ],
   "source": [
    "import lsqfit\n",
    "from model_avg_paper import *\n",
    "from model_avg_paper.test_tmin import test_vary_tmin_SE\n",
    "import gvar as gv"
   ]
  },
  {
   "cell_type": "code",
   "execution_count": 11,
   "id": "ccc8f99e-c7dd-4328-82ea-68c2fb114dcc",
   "metadata": {},
   "outputs": [],
   "source": [
    "data = {'t': np.asarray([t for t in range(int(NT/2))]), 'ND': NCFG, 'yraw': np.real(pionCorrs[:,0:int(NT/2)])}\n",
    "data['y']=gv.dataset.avg_data(data['yraw'])\n",
    "res = test_vary_tmin_SE(data, Nt=NT, max_tmin=28, obs_name='E0', IC='AIC')"
   ]
  },
  {
   "cell_type": "code",
   "execution_count": 12,
   "id": "9acfceb3-f2af-42ae-b9bf-eb3bb790e8f6",
   "metadata": {},
   "outputs": [
    {
     "data": {
      "text/plain": [
       "dict_keys(['tmin', 'data', 'fits', 'obs', 'probs', 'ICs', 'obs_avg', 'Qs'])"
      ]
     },
     "execution_count": 12,
     "metadata": {},
     "output_type": "execute_result"
    }
   ],
   "source": [
    "res.keys()"
   ]
  },
  {
   "cell_type": "code",
   "execution_count": 13,
   "id": "91522f17-1c93-43ab-b10c-3e644ae256f5",
   "metadata": {},
   "outputs": [
    {
     "data": {
      "text/plain": [
       "nan +- nan"
      ]
     },
     "execution_count": 13,
     "metadata": {},
     "output_type": "execute_result"
    }
   ],
   "source": [
    "res['obs_avg']"
   ]
  },
  {
   "cell_type": "code",
   "execution_count": 16,
   "id": "b4e68450-600c-47c8-ab38-a54468217e61",
   "metadata": {},
   "outputs": [
    {
     "name": "stdout",
     "output_type": "stream",
     "text": [
      "Least Square Fit:\n",
      "  chi2/dof [dof] = 3.3e+05 [31]    Q = 0    logGBF = -5.0969e+06\n",
      "\n",
      "Parameters:\n",
      "             A0   55.1 (1.5)     [     0 (10) ]  *****\n",
      "             E0   1.472 (22)     [  1.0 (1.0) ]  \n",
      "\n",
      "Settings:\n",
      "  svdcut/n = 1e-12/0    tol = (1e-08,1e-10,1e-10)    (itns/time = 1000*/0.5)\n",
      "  fitter = scipy_least_squares    method = trf\n",
      "\n"
     ]
    }
   ],
   "source": [
    "print(res['fits'][0])"
   ]
  },
  {
   "cell_type": "code",
   "execution_count": 17,
   "id": "74dfd9a8-df72-4360-9c2a-a135f128f024",
   "metadata": {},
   "outputs": [
    {
     "name": "stdout",
     "output_type": "stream",
     "text": [
      "Least Square Fit:\n",
      "  chi2/dof [dof] = 8.4e+02 [19]    Q = 0    logGBF = -7679.3\n",
      "\n",
      "Parameters:\n",
      "             A0    211.2 (1.4)      [     0 (10) ]  *****\n",
      "             E0   0.61773 (32)      [  1.0 (1.0) ]  \n",
      "\n",
      "Settings:\n",
      "  svdcut/n = 1e-12/0    tol = (1e-08,1e-10,1e-10*)    (itns/time = 23/0.0)\n",
      "  fitter = scipy_least_squares    method = trf\n",
      "\n"
     ]
    }
   ],
   "source": [
    "print(res['fits'][12])"
   ]
  },
  {
   "cell_type": "code",
   "execution_count": 18,
   "id": "2c717971-5511-42a0-a46c-d796a0a6e964",
   "metadata": {},
   "outputs": [
    {
     "name": "stdout",
     "output_type": "stream",
     "text": [
      "Least Square Fit:\n",
      "  chi2/dof [dof] = 1e+03 [15]    Q = 0    logGBF = -7613\n",
      "\n",
      "Parameters:\n",
      "             A0    221.6 (1.8)      [     0 (10) ]  *****\n",
      "             E0   0.61934 (36)      [  1.0 (1.0) ]  \n",
      "\n",
      "Settings:\n",
      "  svdcut/n = 1e-12/0    tol = (1e-08,1e-10,1e-10*)    (itns/time = 19/0.0)\n",
      "  fitter = scipy_least_squares    method = trf\n",
      "\n"
     ]
    }
   ],
   "source": [
    "print(res['fits'][16])"
   ]
  },
  {
   "cell_type": "code",
   "execution_count": null,
   "id": "8b017eb4-5ed1-4cf8-b64c-76417c47ff7b",
   "metadata": {},
   "outputs": [],
   "source": []
  }
 ],
 "metadata": {
  "kernelspec": {
   "display_name": "model_avg_paper",
   "language": "python",
   "name": "model_avg_paper"
  },
  "language_info": {
   "codemirror_mode": {
    "name": "ipython",
    "version": 3
   },
   "file_extension": ".py",
   "mimetype": "text/x-python",
   "name": "python",
   "nbconvert_exporter": "python",
   "pygments_lexer": "ipython3",
   "version": "3.8.12"
  }
 },
 "nbformat": 4,
 "nbformat_minor": 5
}
